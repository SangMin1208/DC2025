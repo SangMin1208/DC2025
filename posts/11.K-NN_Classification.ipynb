{
 "cells": [
  {
   "cell_type": "raw",
   "id": "e03bfa19-d347-4580-a664-03c3a0a4429d",
   "metadata": {},
   "source": [
    "---\n",
    "title: \"11. K-NN Classification\"\n",
    "author: \"이상민\"\n",
    "date: \"05/28/2025\"\n",
    "---"
   ]
  },
  {
   "cell_type": "markdown",
   "id": "37932c19-df43-4d28-89ff-86798f8d0f90",
   "metadata": {},
   "source": [
    "### 1. library"
   ]
  },
  {
   "cell_type": "code",
   "execution_count": 1,
   "id": "478ebfb6-232a-4ea0-bbb4-8023e2764e8a",
   "metadata": {},
   "outputs": [
    {
     "name": "stderr",
     "output_type": "stream",
     "text": [
      "Warning message:\n",
      "“Your system is mis-configured: ‘/var/db/timezone/localtime’ is not a symlink”\n",
      "Warning message:\n",
      "“‘/var/db/timezone/localtime’ is not identical to any known timezone file”\n",
      "── \u001b[1mAttaching core tidyverse packages\u001b[22m ───────────────────────────────────────── tidyverse 2.0.0 ──\n",
      "\u001b[32m✔\u001b[39m \u001b[34mdplyr    \u001b[39m 1.1.4     \u001b[32m✔\u001b[39m \u001b[34mreadr    \u001b[39m 2.1.5\n",
      "\u001b[32m✔\u001b[39m \u001b[34mforcats  \u001b[39m 1.0.0     \u001b[32m✔\u001b[39m \u001b[34mstringr  \u001b[39m 1.5.1\n",
      "\u001b[32m✔\u001b[39m \u001b[34mggplot2  \u001b[39m 3.5.1     \u001b[32m✔\u001b[39m \u001b[34mtibble   \u001b[39m 3.2.1\n",
      "\u001b[32m✔\u001b[39m \u001b[34mlubridate\u001b[39m 1.9.3     \u001b[32m✔\u001b[39m \u001b[34mtidyr    \u001b[39m 1.3.1\n",
      "\u001b[32m✔\u001b[39m \u001b[34mpurrr    \u001b[39m 1.0.2     \n",
      "── \u001b[1mConflicts\u001b[22m ─────────────────────────────────────────────────────────── tidyverse_conflicts() ──\n",
      "\u001b[31m✖\u001b[39m \u001b[34mdplyr\u001b[39m::\u001b[32mfilter()\u001b[39m masks \u001b[34mstats\u001b[39m::filter()\n",
      "\u001b[31m✖\u001b[39m \u001b[34mdplyr\u001b[39m::\u001b[32mlag()\u001b[39m    masks \u001b[34mstats\u001b[39m::lag()\n",
      "\u001b[36mℹ\u001b[39m Use the conflicted package (\u001b[3m\u001b[34m<http://conflicted.r-lib.org/>\u001b[39m\u001b[23m) to force all conflicts to become errors\n",
      "Loading required package: lattice\n",
      "\n",
      "\n",
      "Attaching package: ‘caret’\n",
      "\n",
      "\n",
      "The following object is masked from ‘package:purrr’:\n",
      "\n",
      "    lift\n",
      "\n",
      "\n",
      "\n",
      "Attaching package: ‘gridExtra’\n",
      "\n",
      "\n",
      "The following object is masked from ‘package:dplyr’:\n",
      "\n",
      "    combine\n",
      "\n",
      "\n"
     ]
    }
   ],
   "source": [
    "library(tidyverse)  # 데이터 처리 및 시각화\n",
    "library(caret)      # 데이터 전처리, 분할, 평가\n",
    "library(class)      # KNN 분류 함수\n",
    "library(ggplot2)\n",
    "library(gridExtra)"
   ]
  },
  {
   "cell_type": "markdown",
   "id": "50d27992-6d36-455e-89ec-28b5eff5b93f",
   "metadata": {},
   "source": [
    "### 2. Data"
   ]
  },
  {
   "cell_type": "code",
   "execution_count": 2,
   "id": "bbd0c94a-2245-461c-8b7e-2c1fd2338b74",
   "metadata": {},
   "outputs": [],
   "source": [
    "dt <- read.csv(\"fake_bills.csv\", sep = \";\")"
   ]
  },
  {
   "cell_type": "markdown",
   "id": "5c78536c-a910-4a17-a06f-e7706a5dc9b4",
   "metadata": {},
   "source": [
    "### 3. 전처리"
   ]
  },
  {
   "cell_type": "markdown",
   "id": "da62cb91-9a8b-491e-81ed-a3edd8e72c50",
   "metadata": {},
   "source": [
    "`-` 결측값 제거"
   ]
  },
  {
   "cell_type": "code",
   "execution_count": 3,
   "id": "b7aacc85-efd9-4b97-8b71-656db44eac68",
   "metadata": {},
   "outputs": [],
   "source": [
    "dt <- na.omit(dt)"
   ]
  },
  {
   "cell_type": "markdown",
   "id": "29bae0a9-0122-442d-9bc1-34ebcf044d1b",
   "metadata": {},
   "source": [
    "`-` 목표변수 범주형으로 변환"
   ]
  },
  {
   "cell_type": "code",
   "execution_count": 4,
   "id": "bba0696f-a4f4-456e-9b5b-df4870ffc7d1",
   "metadata": {},
   "outputs": [],
   "source": [
    "dt$is_genuine <- as.factor(dt$is_genuine)"
   ]
  },
  {
   "cell_type": "markdown",
   "id": "96f895d7-7598-4d40-83d7-e1eddb4f1cfe",
   "metadata": {},
   "source": [
    "`-` X,y분리"
   ]
  },
  {
   "cell_type": "code",
   "execution_count": 5,
   "id": "f84e6014-1435-4448-8d29-43a81ee1e98e",
   "metadata": {},
   "outputs": [],
   "source": [
    "X <- dt %>% select(-is_genuine)\n",
    "y <- dt$is_genuine"
   ]
  },
  {
   "cell_type": "markdown",
   "id": "42fa5708-b3c8-4e75-bbd5-e0d4402ef8f6",
   "metadata": {},
   "source": [
    "`-` 표준화"
   ]
  },
  {
   "cell_type": "code",
   "execution_count": 6,
   "id": "291a6bda-7f0d-4160-a1c0-ae738f3f5898",
   "metadata": {},
   "outputs": [],
   "source": [
    "pre_proc <- preProcess(X, method = c(\"center\", \"scale\"))\n",
    "X_scaled <- predict(pre_proc, X)"
   ]
  },
  {
   "cell_type": "markdown",
   "id": "f94c3a6b-62a8-4c10-bd33-480ca8d02242",
   "metadata": {},
   "source": [
    "### 4. 적합"
   ]
  },
  {
   "cell_type": "markdown",
   "id": "e5a80a8f-dde0-4c21-ae55-446cb53f83d3",
   "metadata": {},
   "source": [
    "`-` 반복 설정"
   ]
  },
  {
   "cell_type": "code",
   "execution_count": 7,
   "id": "b976db49-1c0f-4e81-86c8-72a477dd32d9",
   "metadata": {},
   "outputs": [],
   "source": [
    "T <- 100\n",
    "N <- nrow(X_scaled)\n",
    "n_train <- round(0.7 * N)\n",
    "\n",
    "k_range <- 1:100\n",
    "acc_matrix <- matrix(NA, nrow = T, ncol = length(k_range))"
   ]
  },
  {
   "cell_type": "markdown",
   "id": "64e8aa43-82d1-4a9f-99dd-6d418eeb2c1c",
   "metadata": {},
   "source": [
    "`-` 반복 : train/test 나눠서 k별 정확도 저장"
   ]
  },
  {
   "cell_type": "code",
   "execution_count": 8,
   "id": "0c249184-e1ac-4dd0-a9ce-dd9dce61b04d",
   "metadata": {},
   "outputs": [],
   "source": [
    "N <- nrow(X_scaled)"
   ]
  },
  {
   "cell_type": "code",
   "execution_count": 9,
   "id": "644d1d99-28d2-4cef-b38a-f477ddebd50c",
   "metadata": {
    "scrolled": true
   },
   "outputs": [],
   "source": [
    "for (t in 1:T) {\n",
    "  set.seed(t)\n",
    "  train_idx <- sample(1:N, n_train, replace = FALSE)\n",
    "  test_idx <- setdiff(1:N, train_idx)\n",
    "  \n",
    "  x_train <- X_scaled[train_idx, ]\n",
    "  x_test <- X_scaled[test_idx, ]\n",
    "  y_train <- y[train_idx]\n",
    "  y_test <- y[test_idx]\n",
    "  \n",
    "  for (k in k_range) {\n",
    "    pred <- knn(train = x_train, test = x_test, cl = y_train, k = k)\n",
    "    acc_matrix[t, k] <- mean(pred == y_test)\n",
    "  }\n",
    "}"
   ]
  },
  {
   "cell_type": "markdown",
   "id": "c1199584-3f1c-4b3a-b6c9-6d77f875d9d6",
   "metadata": {},
   "source": [
    "`-` 평균 정확도 계산"
   ]
  },
  {
   "cell_type": "code",
   "execution_count": 10,
   "id": "bd8c1d13-65ec-431a-a15c-6ff9554e39ba",
   "metadata": {},
   "outputs": [],
   "source": [
    "avg_acc <- colMeans(acc_matrix, na.rm = TRUE)\n",
    "results <- data.frame(k = k_range, Accuracy = avg_acc)"
   ]
  },
  {
   "cell_type": "markdown",
   "id": "a4389a37-dff1-47fa-85bb-151177cc99e2",
   "metadata": {},
   "source": [
    "`-` 시각화"
   ]
  },
  {
   "cell_type": "code",
   "execution_count": 11,
   "id": "68663e7c-7afa-4c2e-b0a9-fc549f30f1cb",
   "metadata": {},
   "outputs": [
    {
     "name": "stderr",
     "output_type": "stream",
     "text": [
      "Warning message:\n",
      "“\u001b[1m\u001b[22mUsing `size` aesthetic for lines was deprecated in ggplot2 3.4.0.\n",
      "\u001b[36mℹ\u001b[39m Please use `linewidth` instead.”\n"
     ]
    },
    {
     "data": {
      "image/png": "[encoded data removed]",
      "text/plain": [
       "plot without title"
      ]
     },
     "metadata": {
      "image/png": {
       "height": 420,
       "width": 420
      }
     },
     "output_type": "display_data"
    }
   ],
   "source": [
    "ggplot(results, aes(x = k, y = Accuracy)) +\n",
    "  geom_line(color = \"darkgreen\", size = 1) +\n",
    "  geom_point(color = \"black\") +\n",
    "  labs(title = \"K-NN Classification (100 different train/test splits)\",\n",
    "       x = \"k\",\n",
    "       y = \"Average Accuracy\") +\n",
    "  theme_minimal()"
   ]
  },
  {
   "cell_type": "markdown",
   "id": "6d394678-0060-4641-ac65-8ed2a8825122",
   "metadata": {},
   "source": [
    "`-` 최적의 k"
   ]
  },
  {
   "cell_type": "code",
   "execution_count": 12,
   "id": "7963a260-aa94-409a-86ee-6d1ee77dc94b",
   "metadata": {},
   "outputs": [
    {
     "name": "stdout",
     "output_type": "stream",
     "text": [
      "★ 최적의 k 값: 10 \n"
     ]
    }
   ],
   "source": [
    "best_k <- results$k[which.max(results$Accuracy)]\n",
    "cat(\"★ 최적의 k 값:\", best_k, \"\\n\")"
   ]
  },
  {
   "cell_type": "markdown",
   "id": "e0f414b8-8553-426a-a0c0-9e5a616519e0",
   "metadata": {},
   "source": [
    "`-` 최종 예측 비교"
   ]
  },
  {
   "cell_type": "code",
   "execution_count": 13,
   "id": "ff34e487-1cd1-44be-8f72-cf4fa63e84fc",
   "metadata": {},
   "outputs": [],
   "source": [
    "set.seed(999)\n",
    "train_index <- sample(1:N, n_train, replace = FALSE)\n",
    "test_index <- setdiff(1:N, train_index)\n",
    "\n",
    "x_train <- X_scaled[train_index, ]\n",
    "x_test <- X_scaled[test_index, ]\n",
    "y_train <- y[train_index]\n",
    "y_test <- y[test_index]"
   ]
  },
  {
   "cell_type": "markdown",
   "id": "5cd879d1-0a57-41b9-939a-783457eec50f",
   "metadata": {},
   "source": [
    "`-` 최적 k 예측"
   ]
  },
  {
   "cell_type": "code",
   "execution_count": 14,
   "id": "a997479e-bd17-42d8-9b3e-ff4043956494",
   "metadata": {},
   "outputs": [],
   "source": [
    "best_pred <- knn(train = x_train, test = x_test, cl = y_train, k = best_k)"
   ]
  },
  {
   "cell_type": "markdown",
   "id": "f3c81cb9-f195-4faa-9b15-51adef2699bc",
   "metadata": {},
   "source": [
    "`-` k=100 예측"
   ]
  },
  {
   "cell_type": "code",
   "execution_count": 16,
   "id": "41e2483e-079e-4038-a48a-6ecf41bf2941",
   "metadata": {},
   "outputs": [],
   "source": [
    "k100_pred <- knn(train = x_train, test = x_test, cl = y_train, k = 100)"
   ]
  },
  {
   "cell_type": "markdown",
   "id": "4c850143-6767-43ef-a92f-924642445831",
   "metadata": {},
   "source": [
    "`-` 정확도 비교"
   ]
  },
  {
   "cell_type": "code",
   "execution_count": 17,
   "id": "34ede721-5089-4200-a05b-d8d98e42f2d7",
   "metadata": {},
   "outputs": [
    {
     "name": "stdout",
     "output_type": "stream",
     "text": [
      "✔️ Best k ( 10 ) 정확도: 99.32 %\n",
      "✔️ k = 100 정확도: 98.63 %\n"
     ]
    }
   ],
   "source": [
    "acc_best <- mean(best_pred == y_test)\n",
    "acc_k100 <- mean(k100_pred == y_test)\n",
    "\n",
    "cat(\"✔️ Best k (\", best_k, \") 정확도:\", round(acc_best * 100, 2), \"%\\n\")\n",
    "cat(\"✔️ k = 100 정확도:\", round(acc_k100 * 100, 2), \"%\\n\")\n"
   ]
  },
  {
   "cell_type": "markdown",
   "id": "3334c7da-b56d-45c6-a436-ebdd552cb2c4",
   "metadata": {},
   "source": [
    "`-` 혼동행렬 출력"
   ]
  },
  {
   "cell_type": "code",
   "execution_count": 18,
   "id": "048fcb0f-0fdd-4b0a-80fe-bf5a48cfffc0",
   "metadata": {},
   "outputs": [
    {
     "name": "stdout",
     "output_type": "stream",
     "text": [
      "\n",
      "▶ 혼동행렬 (Best k):\n",
      "Confusion Matrix and Statistics\n",
      "\n",
      "          Reference\n",
      "Prediction False True\n",
      "     False   153    0\n",
      "     True      3  283\n",
      "                                          \n",
      "               Accuracy : 0.9932          \n",
      "                 95% CI : (0.9802, 0.9986)\n",
      "    No Information Rate : 0.6446          \n",
      "    P-Value [Acc > NIR] : <2e-16          \n",
      "                                          \n",
      "                  Kappa : 0.985           \n",
      "                                          \n",
      " Mcnemar's Test P-Value : 0.2482          \n",
      "                                          \n",
      "            Sensitivity : 0.9808          \n",
      "            Specificity : 1.0000          \n",
      "         Pos Pred Value : 1.0000          \n",
      "         Neg Pred Value : 0.9895          \n",
      "             Prevalence : 0.3554          \n",
      "         Detection Rate : 0.3485          \n",
      "   Detection Prevalence : 0.3485          \n",
      "      Balanced Accuracy : 0.9904          \n",
      "                                          \n",
      "       'Positive' Class : False           \n",
      "                                          \n",
      "\n",
      "▶ 혼동행렬 (k = 100):\n",
      "Confusion Matrix and Statistics\n",
      "\n",
      "          Reference\n",
      "Prediction False True\n",
      "     False   150    0\n",
      "     True      6  283\n",
      "                                         \n",
      "               Accuracy : 0.9863         \n",
      "                 95% CI : (0.9705, 0.995)\n",
      "    No Information Rate : 0.6446         \n",
      "    P-Value [Acc > NIR] : < 2e-16        \n",
      "                                         \n",
      "                  Kappa : 0.9699         \n",
      "                                         \n",
      " Mcnemar's Test P-Value : 0.04123        \n",
      "                                         \n",
      "            Sensitivity : 0.9615         \n",
      "            Specificity : 1.0000         \n",
      "         Pos Pred Value : 1.0000         \n",
      "         Neg Pred Value : 0.9792         \n",
      "             Prevalence : 0.3554         \n",
      "         Detection Rate : 0.3417         \n",
      "   Detection Prevalence : 0.3417         \n",
      "      Balanced Accuracy : 0.9808         \n",
      "                                         \n",
      "       'Positive' Class : False          \n",
      "                                         \n"
     ]
    }
   ],
   "source": [
    "cat(\"\\n▶ 혼동행렬 (Best k):\\n\")\n",
    "print(confusionMatrix(best_pred, y_test))\n",
    "\n",
    "cat(\"\\n▶ 혼동행렬 (k = 100):\\n\")\n",
    "print(confusionMatrix(k100_pred, y_test))"
   ]
  },
  {
   "cell_type": "markdown",
   "id": "64e38892-39c5-43d7-a91a-1cc8bf6b4392",
   "metadata": {},
   "source": [
    "`-` 그래프로 출력"
   ]
  },
  {
   "cell_type": "code",
   "execution_count": 19,
   "id": "849f68b6-16e3-49bb-ae04-3132cf61a2a1",
   "metadata": {},
   "outputs": [],
   "source": [
    "# 혼동행렬 생성\n",
    "cm_best <- confusionMatrix(best_pred, y_test)\n",
    "cm_k100 <- confusionMatrix(k100_pred, y_test)\n",
    "\n",
    "# 데이터프레임 변환\n",
    "cm_best_df <- as.data.frame(cm_best$table)\n",
    "cm_k100_df <- as.data.frame(cm_k100$table)\n",
    "\n",
    "# 열의 순서 (True → False)\n",
    "cm_best_df$Reference  <- factor(cm_best_df$Reference,  levels = c(\"True\", \"False\"))  \n",
    "cm_k100_df$Reference  <- factor(cm_k100_df$Reference,  levels = c(\"True\", \"False\"))  "
   ]
  },
  {
   "cell_type": "markdown",
   "id": "83e71b0e-96a5-4908-bc00-ee24b1435302",
   "metadata": {},
   "source": [
    "`-` 그래프 1 : 최적k 혼동행렬"
   ]
  },
  {
   "cell_type": "code",
   "execution_count": 20,
   "id": "70d5dc17-e93b-4589-a2b9-e92e6c84d42b",
   "metadata": {},
   "outputs": [],
   "source": [
    "p1 <- ggplot(cm_best_df, aes(x = Reference, y = Prediction)) +\n",
    "  geom_tile(fill = \"white\", color = \"black\", linewidth = 0.8) +  \n",
    "  geom_text(aes(label = Freq), size = 6, fontface = \"bold\") +\n",
    "  labs(title = paste0(\"Confusion Matrix (k = \", best_k, \")\"),\n",
    "       x = \"Actual\", y = \"Predicted\") +\n",
    "  theme_minimal(base_family = \"Helvetica\") +\n",
    "  theme(\n",
    "    plot.title = element_text(size = 14, face = \"bold\", hjust = 0.5),\n",
    "    axis.title = element_text(size = 12, face = \"bold\"),\n",
    "    axis.text = element_text(size = 11, face = \"bold\"),\n",
    "    panel.grid = element_blank(),\n",
    "    legend.position = \"none\"\n",
    "  )"
   ]
  },
  {
   "cell_type": "markdown",
   "id": "c8ec9a42-c9a6-4b89-bb66-9a21f8325140",
   "metadata": {},
   "source": [
    "`-` 그래프 2 : k=100 혼동행렬"
   ]
  },
  {
   "cell_type": "code",
   "execution_count": 21,
   "id": "7f3a2b09-2faa-4ee0-95aa-c037870a8e3c",
   "metadata": {},
   "outputs": [],
   "source": [
    "p2 <- ggplot(cm_k100_df, aes(x = Reference, y = Prediction)) +\n",
    "  geom_tile(fill = \"white\", color = \"black\", linewidth = 0.8) +\n",
    "  geom_text(aes(label = Freq), size = 6, fontface = \"bold\") +\n",
    "  labs(title = \"Confusion Matrix (k = 100)\",\n",
    "       x = \"Actual\", y = \"Predicted\") +\n",
    "  theme_minimal(base_family = \"Helvetica\") +\n",
    "  theme(\n",
    "    plot.title = element_text(size = 14, face = \"bold\", hjust = 0.5),\n",
    "    axis.title = element_text(size = 12, face = \"bold\"),\n",
    "    axis.text = element_text(size = 11, face = \"bold\"),\n",
    "    panel.grid = element_blank(),\n",
    "    legend.position = \"none\"\n",
    "  )"
   ]
  },
  {
   "cell_type": "code",
   "execution_count": 22,
   "id": "4f8a9fd0-9087-43bf-a5db-fcea49ace7a6",
   "metadata": {},
   "outputs": [
    {
     "data": {
      "image/png": "[encoded data removed]",
      "text/plain": [
       "plot without title"
      ]
     },
     "metadata": {
      "image/png": {
       "height": 420,
       "width": 420
      }
     },
     "output_type": "display_data"
    }
   ],
   "source": [
    "grid.arrange(p1, p2, nrow = 1)"
   ]
  }
 ],
 "metadata": {
  "kernelspec": {
   "display_name": "R",
   "language": "R",
   "name": "ir"
  },
  "language_info": {
   "codemirror_mode": "r",
   "file_extension": ".r",
   "mimetype": "text/x-r-source",
   "name": "R",
   "pygments_lexer": "r",
   "version": "4.3.3"
  }
 },
 "nbformat": 4,
 "nbformat_minor": 5
}
