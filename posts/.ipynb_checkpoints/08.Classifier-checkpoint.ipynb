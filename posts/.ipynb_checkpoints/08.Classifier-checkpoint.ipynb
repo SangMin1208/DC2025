{
 "cells": [
  {
   "cell_type": "raw",
   "id": "21e3bcd2-edff-4f49-ae6a-e9d256832f62",
   "metadata": {},
   "source": [
    "---\n",
    "title: \"8. Classifier\"\n",
    "author: \"이상민\"\n",
    "date: \"05/11/2025\"\n",
    "---"
   ]
  },
  {
   "cell_type": "markdown",
   "id": "4b43176e-26c3-47e3-b1d4-b8d0cc64567c",
   "metadata": {},
   "source": [
    "### 1. library"
   ]
  },
  {
   "cell_type": "code",
   "execution_count": 3,
   "id": "7968245b-a78c-4c14-bb34-c2e07453333e",
   "metadata": {
    "scrolled": true
   },
   "outputs": [
    {
     "name": "stderr",
     "output_type": "stream",
     "text": [
      "Loading required package: ggplot2\n",
      "\n",
      "Loading required package: lattice\n",
      "\n",
      "Warning message:\n",
      "“Your system is mis-configured: ‘/var/db/timezone/localtime’ is not a symlink”\n",
      "Warning message:\n",
      "“‘/var/db/timezone/localtime’ is not identical to any known timezone file”\n"
     ]
    }
   ],
   "source": [
    "# install.packages(c(\"palmerpenguins\", \"class\", \"caret\")) # Run this line once if packages are not installed\n",
    "library(palmerpenguins)\n",
    "library(class) # For k-NN\n",
    "library(caret) # For confusionMatrix and createDataPartition"
   ]
  },
  {
   "cell_type": "markdown",
   "id": "6ca8e037-76aa-4805-9635-48974fe52592",
   "metadata": {},
   "source": [
    "### 2. Data"
   ]
  },
  {
   "cell_type": "code",
   "execution_count": 4,
   "id": "eabd839c-a6be-437c-abe2-8ae628a31e16",
   "metadata": {},
   "outputs": [],
   "source": [
    "# --- 1. Data Preparation ---\n",
    "data(penguins)\n",
    "penguins_complete <- na.omit(penguins)\n",
    "selected_data <- penguins_complete[, c(\"bill_length_mm\", \"bill_depth_mm\", \"flipper_length_mm\", \"body_mass_g\", \"year\", \"sex\", \"species\")]\n",
    "set.seed(123)"
   ]
  },
  {
   "cell_type": "markdown",
   "id": "4486e685-5600-48a6-a100-8cc83966c395",
   "metadata": {},
   "source": [
    "`-` train, test 분리"
   ]
  },
  {
   "cell_type": "code",
   "execution_count": 5,
   "id": "664dd33b-09ef-46af-b134-e6c59506be6a",
   "metadata": {},
   "outputs": [],
   "source": [
    "# Split data into training (70%) and testing (30%) sets\n",
    "train_index <- createDataPartition(selected_data$species, p = 0.7, list = FALSE)\n",
    "training_data <- selected_data[train_index, ]\n",
    "testing_data <- selected_data[-train_index, ]"
   ]
  },
  {
   "cell_type": "markdown",
   "id": "fc516548-fec7-4274-852c-1f7ac0469606",
   "metadata": {},
   "source": [
    "### 3. Logistic Regression Classifier(성별(sex) 예측)"
   ]
  },
  {
   "cell_type": "code",
   "execution_count": 6,
   "id": "e44c66fb-61cf-41e0-8b5c-010131bc34b6",
   "metadata": {},
   "outputs": [],
   "source": [
    "# --- 2. Logistic Regression Classifier (Predicting Sex) ---\n",
    "lg_predictor_variables <- c(\"bill_length_mm\", \"bill_depth_mm\", \"flipper_length_mm\", \"body_mass_g\")\n",
    "lg_target_variable <- \"sex\"\n",
    "\n",
    "logistic_model <- glm(\n",
    "  formula = paste(lg_target_variable, \"~\", paste(lg_predictor_variables, collapse = \" + \")),\n",
    "  data = training_data,\n",
    "  family = binomial(link = \"logit\") # Specify logistic regression\n",
    ")"
   ]
  },
  {
   "cell_type": "code",
   "execution_count": 7,
   "id": "7865ac00-e838-4aa7-b7b4-7ad003e13897",
   "metadata": {},
   "outputs": [],
   "source": [
    "logistic_probabilities <- predict(logistic_model, newdata = testing_data, type = \"response\")\n",
    "classified_sex <- ifelse(logistic_probabilities > 0.5, \"male\", \"female\")\n",
    "classified_sex <- factor(classified_sex, levels = levels(testing_data$sex))"
   ]
  },
  {
   "cell_type": "markdown",
   "id": "fa1ef074-6c7f-450d-a445-644c248485b7",
   "metadata": {},
   "source": [
    "### 4. Logistic Regression 평가"
   ]
  },
  {
   "cell_type": "code",
   "execution_count": 8,
   "id": "3911bae1-9466-4e0e-ad03-24a054526bff",
   "metadata": {},
   "outputs": [
    {
     "data": {
      "text/plain": [
       "          Reference\n",
       "Prediction female male\n",
       "    female     42    4\n",
       "    male        6   46"
      ]
     },
     "metadata": {},
     "output_type": "display_data"
    },
    {
     "data": {
      "text/html": [
       "<strong>Accuracy:</strong> 0.897959183673469"
      ],
      "text/latex": [
       "\\textbf{Accuracy:} 0.897959183673469"
      ],
      "text/markdown": [
       "**Accuracy:** 0.897959183673469"
      ],
      "text/plain": [
       " Accuracy \n",
       "0.8979592 "
      ]
     },
     "metadata": {},
     "output_type": "display_data"
    },
    {
     "data": {
      "text/html": [
       "<style>\n",
       ".dl-inline {width: auto; margin:0; padding: 0}\n",
       ".dl-inline>dt, .dl-inline>dd {float: none; width: auto; display: inline-block}\n",
       ".dl-inline>dt::after {content: \":\\0020\"; padding-right: .5ex}\n",
       ".dl-inline>dt:not(:first-of-type) {padding-left: .5ex}\n",
       "</style><dl class=dl-inline><dt>Precision</dt><dd>0.91304347826087</dd><dt>Recall</dt><dd>0.875</dd><dt>Sensitivity</dt><dd>0.875</dd><dt>Specificity</dt><dd>0.92</dd><dt>Pos Pred Value</dt><dd>0.91304347826087</dd><dt>Neg Pred Value</dt><dd>0.884615384615385</dd></dl>\n"
      ],
      "text/latex": [
       "\\begin{description*}\n",
       "\\item[Precision] 0.91304347826087\n",
       "\\item[Recall] 0.875\n",
       "\\item[Sensitivity] 0.875\n",
       "\\item[Specificity] 0.92\n",
       "\\item[Pos Pred Value] 0.91304347826087\n",
       "\\item[Neg Pred Value] 0.884615384615385\n",
       "\\end{description*}\n"
      ],
      "text/markdown": [
       "Precision\n",
       ":   0.91304347826087Recall\n",
       ":   0.875Sensitivity\n",
       ":   0.875Specificity\n",
       ":   0.92Pos Pred Value\n",
       ":   0.91304347826087Neg Pred Value\n",
       ":   0.884615384615385\n",
       "\n"
      ],
      "text/plain": [
       "     Precision         Recall    Sensitivity    Specificity Pos Pred Value \n",
       "     0.9130435      0.8750000      0.8750000      0.9200000      0.9130435 \n",
       "Neg Pred Value \n",
       "     0.8846154 "
      ]
     },
     "metadata": {},
     "output_type": "display_data"
    }
   ],
   "source": [
    "lg_conf_matrix_details <- confusionMatrix(\n",
    "  data = classified_sex,                   # Classified classes\n",
    "  reference = testing_data[[lg_target_variable]] # Actual classes\n",
    ")\n",
    "lg_conf_matrix_details$table\n",
    "lg_conf_matrix_details$overall[\"Accuracy\"]\n",
    "lg_conf_matrix_details$byClass[c(\"Precision\", \"Recall\", \"Sensitivity\", \"Specificity\", \"Pos Pred Value\", \"Neg Pred Value\")]"
   ]
  },
  {
   "cell_type": "markdown",
   "id": "b4fa20cc-787a-4091-9359-ded8dd27da7a",
   "metadata": {},
   "source": [
    "### 5. k-Nearest Neighbor (k-NN) Classifier"
   ]
  },
  {
   "cell_type": "code",
   "execution_count": 9,
   "id": "ff86b9e9-f1ec-4422-add1-ce548eabeb40",
   "metadata": {},
   "outputs": [],
   "source": [
    "knn_predictor_variables <- c(\"bill_length_mm\", \"bill_depth_mm\", \"flipper_length_mm\", \"body_mass_g\", \"year\")\n",
    "knn_target_variable <- \"species\"\n",
    "training_data_knn <- training_data\n",
    "testing_data_knn <- testing_data\n",
    "training_data_knn[knn_predictor_variables] <- scale(training_data_knn[knn_predictor_variables])\n",
    "testing_data_knn[knn_predictor_variables] <- scale(testing_data_knn[knn_predictor_variables],\n",
    "                                                   center = attr(scale(training_data[knn_predictor_variables]), \"scaled:center\"),\n",
    "                                                   scale = attr(scale(training_data[knn_predictor_variables]), \"scaled:scale\"))\n",
    "\n",
    "knn_classification <- knn(\n",
    "  train = training_data_knn[, knn_predictor_variables], # Training predictors (scaled)\n",
    "  test = testing_data_knn[, knn_predictor_variables],   # Testing predictors (scaled)\n",
    "  cl = training_data[[knn_target_variable]],            # True class labels for training data\n",
    "  k = 5\n",
    ")"
   ]
  },
  {
   "cell_type": "markdown",
   "id": "b5f4ad9a-328f-41ba-95c1-cbaf4ca80a43",
   "metadata": {},
   "source": [
    "### 6. k-Nearest Neightbor 평가"
   ]
  },
  {
   "cell_type": "code",
   "execution_count": 10,
   "id": "fe460b0e-e375-46db-a7f4-017238749e4d",
   "metadata": {},
   "outputs": [
    {
     "data": {
      "text/plain": [
       "           Reference\n",
       "Prediction  Adelie Chinstrap Gentoo\n",
       "  Adelie        43         0      0\n",
       "  Chinstrap      0        20      0\n",
       "  Gentoo         0         0     35"
      ]
     },
     "metadata": {},
     "output_type": "display_data"
    },
    {
     "data": {
      "text/html": [
       "<strong>Accuracy:</strong> 1"
      ],
      "text/latex": [
       "\\textbf{Accuracy:} 1"
      ],
      "text/markdown": [
       "**Accuracy:** 1"
      ],
      "text/plain": [
       "Accuracy \n",
       "       1 "
      ]
     },
     "metadata": {},
     "output_type": "display_data"
    },
    {
     "data": {
      "text/html": [
       "<table class=\"dataframe\">\n",
       "<caption>A matrix: 3 × 2 of type dbl</caption>\n",
       "<thead>\n",
       "\t<tr><th></th><th scope=col>Precision</th><th scope=col>Recall</th></tr>\n",
       "</thead>\n",
       "<tbody>\n",
       "\t<tr><th scope=row>Class: Adelie</th><td>1</td><td>1</td></tr>\n",
       "\t<tr><th scope=row>Class: Chinstrap</th><td>1</td><td>1</td></tr>\n",
       "\t<tr><th scope=row>Class: Gentoo</th><td>1</td><td>1</td></tr>\n",
       "</tbody>\n",
       "</table>\n"
      ],
      "text/latex": [
       "A matrix: 3 × 2 of type dbl\n",
       "\\begin{tabular}{r|ll}\n",
       "  & Precision & Recall\\\\\n",
       "\\hline\n",
       "\tClass: Adelie & 1 & 1\\\\\n",
       "\tClass: Chinstrap & 1 & 1\\\\\n",
       "\tClass: Gentoo & 1 & 1\\\\\n",
       "\\end{tabular}\n"
      ],
      "text/markdown": [
       "\n",
       "A matrix: 3 × 2 of type dbl\n",
       "\n",
       "| <!--/--> | Precision | Recall |\n",
       "|---|---|---|\n",
       "| Class: Adelie | 1 | 1 |\n",
       "| Class: Chinstrap | 1 | 1 |\n",
       "| Class: Gentoo | 1 | 1 |\n",
       "\n"
      ],
      "text/plain": [
       "                 Precision Recall\n",
       "Class: Adelie    1         1     \n",
       "Class: Chinstrap 1         1     \n",
       "Class: Gentoo    1         1     "
      ]
     },
     "metadata": {},
     "output_type": "display_data"
    }
   ],
   "source": [
    "knn_conf_matrix_details <- confusionMatrix(\n",
    "  data = knn_classification,                      # classified classes\n",
    "  reference = testing_data[[knn_target_variable]] # Actual classes\n",
    ")\n",
    "knn_conf_matrix_details$table\n",
    "knn_conf_matrix_details$overall[\"Accuracy\"]\n",
    "knn_conf_matrix_details$byClass[, c(\"Precision\", \"Recall\")]\n"
   ]
  }
 ],
 "metadata": {
  "kernelspec": {
   "display_name": "R",
   "language": "R",
   "name": "ir"
  },
  "language_info": {
   "codemirror_mode": "r",
   "file_extension": ".r",
   "mimetype": "text/x-r-source",
   "name": "R",
   "pygments_lexer": "r",
   "version": "4.3.3"
  }
 },
 "nbformat": 4,
 "nbformat_minor": 5
}
