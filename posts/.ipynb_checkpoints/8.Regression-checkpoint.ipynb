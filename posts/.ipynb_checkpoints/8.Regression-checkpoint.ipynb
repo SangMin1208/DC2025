{
 "cells": [
  {
   "cell_type": "raw",
   "id": "daf67a7c-f791-494b-8ca0-eb97bd1248e8",
   "metadata": {},
   "source": [
    "---\n",
    "title: \"9. Regression\"\n",
    "author: \"이상민\"\n",
    "date: \"05/19/2025\"\n",
    "---"
   ]
  },
  {
   "cell_type": "markdown",
   "id": "2f1c3f8a-b9e8-4291-97fc-27023e132093",
   "metadata": {},
   "source": [
    "### 1. imports"
   ]
  },
  {
   "cell_type": "code",
   "execution_count": 1,
   "id": "c7ec19fe-cfd9-4394-8184-30a132385aae",
   "metadata": {},
   "outputs": [],
   "source": [
    "# install.packages(\"ggplot2\")\n",
    "library(ggplot2)"
   ]
  },
  {
   "cell_type": "markdown",
   "id": "c8d72364-1773-470f-bcb2-ef030d9421f5",
   "metadata": {},
   "source": [
    "### 2. data"
   ]
  },
  {
   "cell_type": "code",
   "execution_count": 2,
   "id": "48f91ae3-130e-4830-a3a9-547b7425e13c",
   "metadata": {},
   "outputs": [],
   "source": [
    "data(diamonds)"
   ]
  },
  {
   "cell_type": "markdown",
   "id": "0e49fde9-d2c9-47b7-aa15-79eaa5612f23",
   "metadata": {},
   "source": [
    "`-` cut, color, clarity를 범주형(factor)로 변환"
   ]
  },
  {
   "cell_type": "code",
   "execution_count": 3,
   "id": "89f46bd7-c430-4bba-ad57-74a6831cc300",
   "metadata": {},
   "outputs": [],
   "source": [
    "diamonds$cut <- factor(diamonds$cut, ordered = FALSE)\n",
    "diamonds$color <- factor(diamonds$color, ordered = FALSE)\n",
    "diamonds$clarity <- factor(diamonds$clarity, ordered = FALSE)"
   ]
  },
  {
   "cell_type": "markdown",
   "id": "65ac655d-3138-4f14-bcb5-57085997dca4",
   "metadata": {},
   "source": [
    "`-` 사용할 변수 선택"
   ]
  },
  {
   "cell_type": "code",
   "execution_count": 4,
   "id": "b5032a3c-9832-4fff-94cf-4274e9d0ec38",
   "metadata": {},
   "outputs": [],
   "source": [
    "diamonds_sub <- diamonds[, c(\"price\", \"carat\", \"cut\", \"color\", \"clarity\", \"depth\", \"table\", \"x\", \"y\", \"z\")]"
   ]
  },
  {
   "cell_type": "markdown",
   "id": "ef2dc507-9b34-4c0a-a6f2-19f683156489",
   "metadata": {},
   "source": [
    "`-` 데이터 셔플"
   ]
  },
  {
   "cell_type": "code",
   "execution_count": 6,
   "id": "7cceb8c3-e554-491c-8068-2d9dada03a6e",
   "metadata": {},
   "outputs": [],
   "source": [
    "set.seed(2025)  # 재현성 확보\n",
    "shuffled_idx <- sample(nrow(diamonds_sub))\n",
    "diamonds_sub <- diamonds_sub[shuffled_idx, ]"
   ]
  },
  {
   "cell_type": "markdown",
   "id": "f99d1051-f2cd-4496-a50f-d5abdfeceb84",
   "metadata": {},
   "source": [
    "`-` 데이터 분할(70% train, 30% test)"
   ]
  },
  {
   "cell_type": "code",
   "execution_count": 7,
   "id": "9ba32b67-7a42-4d91-8e2e-1aec23b1b567",
   "metadata": {},
   "outputs": [],
   "source": [
    "n <- nrow(diamonds_sub)\n",
    "n_train <- round(0.7 * n)"
   ]
  },
  {
   "cell_type": "code",
   "execution_count": 8,
   "id": "5af7bd82-2313-49ce-a4f1-d2c92c08ddbf",
   "metadata": {},
   "outputs": [],
   "source": [
    "train_data <- diamonds_sub[1:n_train, ]\n",
    "test_data  <- diamonds_sub[(n_train + 1):n, ]"
   ]
  },
  {
   "cell_type": "markdown",
   "id": "25ef1b86-9270-47c9-b004-32ac1e9a6239",
   "metadata": {},
   "source": [
    "### 3. 모델 학습"
   ]
  },
  {
   "cell_type": "code",
   "execution_count": 9,
   "id": "36b0de02-7f11-4fdb-b701-e2d5796cdd19",
   "metadata": {},
   "outputs": [],
   "source": [
    "model <- lm(price ~ carat + cut + color + clarity + depth + table + x + y + z, data = train_data)"
   ]
  },
  {
   "cell_type": "code",
   "execution_count": 10,
   "id": "b548581b-735d-451c-b08c-9d2f6b2e0c00",
   "metadata": {},
   "outputs": [
    {
     "data": {
      "text/plain": [
       "\n",
       "Call:\n",
       "lm(formula = price ~ carat + cut + color + clarity + depth + \n",
       "    table + x + y + z, data = train_data)\n",
       "\n",
       "Residuals:\n",
       "     Min       1Q   Median       3Q      Max \n",
       "-21193.1   -592.3   -184.2    379.4  10019.2 \n",
       "\n",
       "Coefficients:\n",
       "              Estimate Std. Error t value Pr(>|t|)    \n",
       "(Intercept)   2523.821    486.284   5.190 2.11e-07 ***\n",
       "carat        11166.722     57.804 193.183  < 2e-16 ***\n",
       "cutGood        569.597     40.501  14.064  < 2e-16 ***\n",
       "cutVery Good   708.343     38.926  18.197  < 2e-16 ***\n",
       "cutPremium     752.076     38.947  19.310  < 2e-16 ***\n",
       "cutIdeal       810.282     40.340  20.086  < 2e-16 ***\n",
       "colorE        -207.868     21.473  -9.681  < 2e-16 ***\n",
       "colorF        -253.152     21.671 -11.681  < 2e-16 ***\n",
       "colorG        -476.298     21.273 -22.390  < 2e-16 ***\n",
       "colorH        -967.243     22.517 -42.956  < 2e-16 ***\n",
       "colorI       -1462.027     25.326 -57.728  < 2e-16 ***\n",
       "colorJ       -2379.519     31.042 -76.655  < 2e-16 ***\n",
       "claritySI2    2660.652     51.379  51.784  < 2e-16 ***\n",
       "claritySI1    3638.154     51.113  71.179  < 2e-16 ***\n",
       "clarityVS2    4247.626     51.407  82.627  < 2e-16 ***\n",
       "clarityVS1    4551.296     52.258  87.093  < 2e-16 ***\n",
       "clarityVVS2   4918.192     53.839  91.350  < 2e-16 ***\n",
       "clarityVVS1   4987.707     55.359  90.097  < 2e-16 ***\n",
       "clarityIF     5297.251     59.893  88.445  < 2e-16 ***\n",
       "depth          -69.236      5.335 -12.979  < 2e-16 ***\n",
       "table          -28.518      3.496  -8.157 3.55e-16 ***\n",
       "x             -964.321     35.990 -26.794  < 2e-16 ***\n",
       "y               -2.101     19.444  -0.108    0.914    \n",
       "z              -40.404     35.011  -1.154    0.248    \n",
       "---\n",
       "Signif. codes:  0 ‘***’ 0.001 ‘**’ 0.01 ‘*’ 0.05 ‘.’ 0.1 ‘ ’ 1\n",
       "\n",
       "Residual standard error: 1129 on 37734 degrees of freedom\n",
       "Multiple R-squared:  0.9198,\tAdjusted R-squared:  0.9197 \n",
       "F-statistic: 1.881e+04 on 23 and 37734 DF,  p-value: < 2.2e-16\n"
      ]
     },
     "metadata": {},
     "output_type": "display_data"
    }
   ],
   "source": [
    "summary(model)"
   ]
  },
  {
   "cell_type": "markdown",
   "id": "dd5e12ff-31a5-458b-9f0f-097d3e6ea7d6",
   "metadata": {},
   "source": [
    "### 4. 모델 평가"
   ]
  },
  {
   "cell_type": "markdown",
   "id": "cedccf93-203b-4529-a62f-a64bfe099224",
   "metadata": {},
   "source": [
    "`-` test_set 예측"
   ]
  },
  {
   "cell_type": "code",
   "execution_count": 11,
   "id": "c7528290-43c9-4e84-8eef-0d911ad685d3",
   "metadata": {},
   "outputs": [],
   "source": [
    "test_pred <- predict(model, newdata = test_data)"
   ]
  },
  {
   "cell_type": "markdown",
   "id": "a68ee7a8-1d35-4c51-934c-74a6a6e3a7af",
   "metadata": {},
   "source": [
    "`-` test 성능 평가(RMSE 계산)"
   ]
  },
  {
   "cell_type": "code",
   "execution_count": 12,
   "id": "3ff27af0-1c97-4ca9-813f-8c7feb5053ba",
   "metadata": {},
   "outputs": [
    {
     "name": "stdout",
     "output_type": "stream",
     "text": [
      "Test RMSE: 1132.54 \n"
     ]
    }
   ],
   "source": [
    "test_rmse <- sqrt(mean((test_pred - test_data$price)^2))\n",
    "cat(\"Test RMSE:\", round(test_rmse, 2), \"\\n\")"
   ]
  },
  {
   "cell_type": "markdown",
   "id": "debcb7fd-6c9a-484a-bcb3-3298a7fd1c50",
   "metadata": {},
   "source": [
    "`-` 예측 vs 실제 산점도 (test set)"
   ]
  },
  {
   "cell_type": "code",
   "execution_count": 13,
   "id": "4ac37faa-a32f-49fb-9704-035ca6123e8b",
   "metadata": {},
   "outputs": [
    {
     "data": {
      "image/png": "[encoded data removed]",
      "text/plain": [
       "Plot with title “Test Set: Predicted vs Actual Price”"
      ]
     },
     "metadata": {
      "image/png": {
       "height": 420,
       "width": 420
      }
     },
     "output_type": "display_data"
    }
   ],
   "source": [
    "plot(test_pred, test_data$price,\n",
    "     xlab = \"Predicted Price\", ylab = \"Actual Price\",\n",
    "     main = \"Test Set: Predicted vs Actual Price\",\n",
    "     pch = 16, col = \"blue\")\n",
    "abline(0, 1, col = \"red\", lwd = 2)  # 완벽한 예측선 (y = x)"
   ]
  },
  {
   "cell_type": "markdown",
   "id": "2fc537a3-f305-4b38-9feb-1e5e257ade43",
   "metadata": {},
   "source": [
    "`-` RMSE값 그래프에 추가"
   ]
  },
  {
   "cell_type": "code",
   "execution_count": 14,
   "id": "5ea409b9-1188-4130-a83a-6a3c60f16001",
   "metadata": {},
   "outputs": [
    {
     "ename": "ERROR",
     "evalue": "Error in text.default(x = max(test_pred) * 0.7, y = min(test_data$price) * : plot.new has not been called yet\n",
     "output_type": "error",
     "traceback": [
      "Error in text.default(x = max(test_pred) * 0.7, y = min(test_data$price) * : plot.new has not been called yet\nTraceback:\n",
      "1. text(x = max(test_pred) * 0.7, y = min(test_data$price) * 1.2, \n .     labels = paste0(\"Test RMSE = \", round(test_rmse, 2)), pos = 4, \n .     col = \"black\", cex = 0.9)",
      "2. text.default(x = max(test_pred) * 0.7, y = min(test_data$price) * \n .     1.2, labels = paste0(\"Test RMSE = \", round(test_rmse, 2)), \n .     pos = 4, col = \"black\", cex = 0.9)"
     ]
    }
   ],
   "source": [
    "text(x = max(test_pred) * 0.7, \n",
    "     y = min(test_data$price) * 1.2, \n",
    "     labels = paste0(\"Test RMSE = \", round(test_rmse, 2)),\n",
    "     pos = 4, \n",
    "     col = \"black\", \n",
    "     cex = 0.9)"
   ]
  },
  {
   "cell_type": "markdown",
   "id": "42be4b33-51e1-4248-96a9-885f1cc46350",
   "metadata": {},
   "source": [
    "`-` 새로운 데이터 생성"
   ]
  },
  {
   "cell_type": "code",
   "execution_count": 15,
   "id": "98408c35-681a-49fd-a637-2a6b5c1506a7",
   "metadata": {},
   "outputs": [],
   "source": [
    "new_data <- data.frame(\n",
    "  carat = c(0.5, 1.2),\n",
    "  cut = factor(c(\"Ideal\", \"Premium\"), levels = levels(diamonds$cut)),\n",
    "  color = factor(c(\"E\", \"H\"), levels = levels(diamonds$color)),\n",
    "  clarity = factor(c(\"VS2\", \"SI1\"), levels = levels(diamonds$clarity)),\n",
    "  depth = c(61.5, 62.2),\n",
    "  table = c(55, 58),\n",
    "  x = c(5.1, 6.9),\n",
    "  y = c(5.2, 7.1),\n",
    "  z = c(3.15, 4.35)\n",
    ")"
   ]
  },
  {
   "cell_type": "markdown",
   "id": "2bb335a9-2e42-484e-ab0c-a85cf606c83c",
   "metadata": {},
   "source": [
    "`-` 새로운 데이터 예측 및 결과 출력"
   ]
  },
  {
   "cell_type": "code",
   "execution_count": 16,
   "id": "bccf920f-51e2-44b6-ab43-53f37067be77",
   "metadata": {},
   "outputs": [],
   "source": [
    "predicted_prices <- predict(model, newdata = new_data)"
   ]
  },
  {
   "cell_type": "code",
   "execution_count": 18,
   "id": "f8a375f8-55f4-4b14-8edc-e2829e21af42",
   "metadata": {},
   "outputs": [
    {
     "data": {
      "text/html": [
       "<table class=\"dataframe\">\n",
       "<caption>A data.frame: 2 × 10</caption>\n",
       "<thead>\n",
       "\t<tr><th scope=col>carat</th><th scope=col>cut</th><th scope=col>color</th><th scope=col>clarity</th><th scope=col>depth</th><th scope=col>table</th><th scope=col>x</th><th scope=col>y</th><th scope=col>z</th><th scope=col>predicted_price</th></tr>\n",
       "\t<tr><th scope=col>&lt;dbl&gt;</th><th scope=col>&lt;fct&gt;</th><th scope=col>&lt;fct&gt;</th><th scope=col>&lt;fct&gt;</th><th scope=col>&lt;dbl&gt;</th><th scope=col>&lt;dbl&gt;</th><th scope=col>&lt;dbl&gt;</th><th scope=col>&lt;dbl&gt;</th><th scope=col>&lt;dbl&gt;</th><th scope=col>&lt;dbl&gt;</th></tr>\n",
       "</thead>\n",
       "<tbody>\n",
       "\t<tr><td>0.5</td><td>Ideal  </td><td>E</td><td>VS2</td><td>61.5</td><td>55</td><td>5.1</td><td>5.2</td><td>3.15</td><td>2074.45</td></tr>\n",
       "\t<tr><td>1.2</td><td>Premium</td><td>H</td><td>SI1</td><td>62.2</td><td>58</td><td>6.9</td><td>7.1</td><td>4.35</td><td>6541.83</td></tr>\n",
       "</tbody>\n",
       "</table>\n"
      ],
      "text/latex": [
       "A data.frame: 2 × 10\n",
       "\\begin{tabular}{llllllllll}\n",
       " carat & cut & color & clarity & depth & table & x & y & z & predicted\\_price\\\\\n",
       " <dbl> & <fct> & <fct> & <fct> & <dbl> & <dbl> & <dbl> & <dbl> & <dbl> & <dbl>\\\\\n",
       "\\hline\n",
       "\t 0.5 & Ideal   & E & VS2 & 61.5 & 55 & 5.1 & 5.2 & 3.15 & 2074.45\\\\\n",
       "\t 1.2 & Premium & H & SI1 & 62.2 & 58 & 6.9 & 7.1 & 4.35 & 6541.83\\\\\n",
       "\\end{tabular}\n"
      ],
      "text/markdown": [
       "\n",
       "A data.frame: 2 × 10\n",
       "\n",
       "| carat &lt;dbl&gt; | cut &lt;fct&gt; | color &lt;fct&gt; | clarity &lt;fct&gt; | depth &lt;dbl&gt; | table &lt;dbl&gt; | x &lt;dbl&gt; | y &lt;dbl&gt; | z &lt;dbl&gt; | predicted_price &lt;dbl&gt; |\n",
       "|---|---|---|---|---|---|---|---|---|---|\n",
       "| 0.5 | Ideal   | E | VS2 | 61.5 | 55 | 5.1 | 5.2 | 3.15 | 2074.45 |\n",
       "| 1.2 | Premium | H | SI1 | 62.2 | 58 | 6.9 | 7.1 | 4.35 | 6541.83 |\n",
       "\n"
      ],
      "text/plain": [
       "  carat cut     color clarity depth table x   y   z    predicted_price\n",
       "1 0.5   Ideal   E     VS2     61.5  55    5.1 5.2 3.15 2074.45        \n",
       "2 1.2   Premium H     SI1     62.2  58    6.9 7.1 4.35 6541.83        "
      ]
     },
     "metadata": {},
     "output_type": "display_data"
    }
   ],
   "source": [
    "new_data$predicted_price <- round(predicted_prices, 2)\n",
    "new_data"
   ]
  }
 ],
 "metadata": {
  "kernelspec": {
   "display_name": "R",
   "language": "R",
   "name": "ir"
  },
  "language_info": {
   "codemirror_mode": "r",
   "file_extension": ".r",
   "mimetype": "text/x-r-source",
   "name": "R",
   "pygments_lexer": "r",
   "version": "4.3.3"
  }
 },
 "nbformat": 4,
 "nbformat_minor": 5
}
