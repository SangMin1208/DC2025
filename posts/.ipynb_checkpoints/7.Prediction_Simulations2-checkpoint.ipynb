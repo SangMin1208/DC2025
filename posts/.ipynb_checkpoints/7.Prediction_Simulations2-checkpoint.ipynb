{
 "cells": [
  {
   "cell_type": "raw",
   "id": "ef86cb08-9167-4cef-8d48-1f4fe38430ab",
   "metadata": {},
   "source": [
    "---\n",
    "title: \"7. Prediction Simulations 2\"\n",
    "author: \"이상민\"\n",
    "date: \"04/16/2025\"\n",
    "---"
   ]
  }
 ],
 "metadata": {
  "kernelspec": {
   "display_name": "Python 3 (ipykernel)",
   "language": "python",
   "name": "python3"
  },
  "language_info": {
   "codemirror_mode": {
    "name": "ipython",
    "version": 3
   },
   "file_extension": ".py",
   "mimetype": "text/x-python",
   "name": "python",
   "nbconvert_exporter": "python",
   "pygments_lexer": "ipython3",
   "version": "3.10.12"
  }
 },
 "nbformat": 4,
 "nbformat_minor": 5
}
