{
 "cells": [
  {
   "cell_type": "raw",
   "id": "db868fed-ab6b-49f9-9219-fa5a7ec1f100",
   "metadata": {},
   "source": [
    "---\n",
    "title: \"3. DC HW1\"\n",
    "author: \"이상민\"\n",
    "date: \"04/05/2025\"\n",
    "---"
   ]
  }
 ],
 "metadata": {
  "kernelspec": {
   "display_name": "R",
   "language": "R",
   "name": "ir"
  },
  "language_info": {
   "codemirror_mode": "r",
   "file_extension": ".r",
   "mimetype": "text/x-r-source",
   "name": "R",
   "pygments_lexer": "r",
   "version": "4.3.3"
  }
 },
 "nbformat": 4,
 "nbformat_minor": 5
}
